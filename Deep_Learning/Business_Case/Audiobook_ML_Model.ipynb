{
 "cells": [
  {
   "cell_type": "markdown",
   "metadata": {},
   "source": [
    "# Machine Learning Algorithm "
   ]
  },
  {
   "cell_type": "markdown",
   "metadata": {},
   "source": [
    "#### Import libraries :"
   ]
  },
  {
   "cell_type": "code",
   "execution_count": 1,
   "metadata": {},
   "outputs": [],
   "source": [
    "import numpy as np\n",
    "import tensorflow as  tf"
   ]
  },
  {
   "cell_type": "markdown",
   "metadata": {},
   "source": [
    "#### Load Data :"
   ]
  },
  {
   "cell_type": "code",
   "execution_count": 5,
   "metadata": {},
   "outputs": [],
   "source": [
    "npz = np.load('Audiobooks_data_train.npz')\n",
    "\n",
    "train_inputs = npz['inputs'].astype(np.float)\n",
    "train_targets = npz['targets'].astype(np.int)\n",
    "\n",
    "npz = np.load('Audiobooks_data_validation.npz')\n",
    "validation_inputs = npz['inputs'].astype(np.float)\n",
    "validation_targets = npz['targets'].astype(np.int)\n",
    "\n",
    "npz = np.load('Audiobooks_data_test.npz')\n",
    "test_inputs = npz['inputs'].astype(np.float)\n",
    "test_targets = npz['targets'].astype(np.int)\n"
   ]
  },
  {
   "cell_type": "markdown",
   "metadata": {},
   "source": [
    "## Model "
   ]
  },
  {
   "cell_type": "markdown",
   "metadata": {},
   "source": [
    "#### Outline :"
   ]
  },
  {
   "cell_type": "code",
   "execution_count": 7,
   "metadata": {},
   "outputs": [],
   "source": [
    "input_size = 10 #10 predictors\n",
    "output_size = 2 #0s and 1s\n",
    "hidden_layer_size = 50 #Initially 50\n",
    "\n",
    "model = tf.keras.Sequential([\n",
    "    tf.keras.layers.Dense(hidden_layer_size, activation='relu'),\n",
    "    tf.keras.layers.Dense(hidden_layer_size,activation='relu'),\n",
    "    tf.keras.layers.Dense(output_size,activation='softmax')\n",
    "])\n"
   ]
  },
  {
   "cell_type": "markdown",
   "metadata": {},
   "source": [
    "#### Optimizer and Loss Function :"
   ]
  },
  {
   "cell_type": "code",
   "execution_count": 8,
   "metadata": {},
   "outputs": [],
   "source": [
    "model.compile(optimizer='adam' , loss='sparse_categorical_crossentropy',metrics=['accuracy'])"
   ]
  },
  {
   "cell_type": "markdown",
   "metadata": {},
   "source": [
    "#### Hyperparameters :"
   ]
  },
  {
   "cell_type": "code",
   "execution_count": 9,
   "metadata": {},
   "outputs": [],
   "source": [
    "batch_size = 100\n",
    "max_epoch = 100"
   ]
  },
  {
   "cell_type": "markdown",
   "metadata": {},
   "source": [
    "## Training Model "
   ]
  },
  {
   "cell_type": "code",
   "execution_count": 12,
   "metadata": {},
   "outputs": [
    {
     "name": "stdout",
     "output_type": "stream",
     "text": [
      "Train on 3579 samples, validate on 447 samples\n",
      "Epoch 1/100\n",
      "3579/3579 - 2s - loss: 0.5115 - accuracy: 0.8187 - val_loss: 0.3940 - val_accuracy: 0.8814\n",
      "Epoch 2/100\n",
      "3579/3579 - 0s - loss: 0.3476 - accuracy: 0.8807 - val_loss: 0.3223 - val_accuracy: 0.8837\n",
      "Epoch 3/100\n",
      "3579/3579 - 0s - loss: 0.3076 - accuracy: 0.8868 - val_loss: 0.3002 - val_accuracy: 0.8949\n",
      "Epoch 4/100\n",
      "3579/3579 - 0s - loss: 0.2888 - accuracy: 0.8919 - val_loss: 0.2845 - val_accuracy: 0.8971\n",
      "Epoch 5/100\n",
      "3579/3579 - 0s - loss: 0.2772 - accuracy: 0.8949 - val_loss: 0.2723 - val_accuracy: 0.9038\n",
      "Epoch 6/100\n",
      "3579/3579 - 0s - loss: 0.2682 - accuracy: 0.8977 - val_loss: 0.2627 - val_accuracy: 0.9105\n",
      "Epoch 7/100\n",
      "3579/3579 - 0s - loss: 0.2609 - accuracy: 0.9022 - val_loss: 0.2558 - val_accuracy: 0.9105\n",
      "Epoch 8/100\n",
      "3579/3579 - 0s - loss: 0.2564 - accuracy: 0.9044 - val_loss: 0.2521 - val_accuracy: 0.9105\n",
      "Epoch 9/100\n",
      "3579/3579 - 0s - loss: 0.2513 - accuracy: 0.9033 - val_loss: 0.2473 - val_accuracy: 0.9105\n",
      "Epoch 10/100\n",
      "3579/3579 - 0s - loss: 0.2477 - accuracy: 0.9053 - val_loss: 0.2524 - val_accuracy: 0.9128\n",
      "Epoch 11/100\n",
      "3579/3579 - 0s - loss: 0.2463 - accuracy: 0.9058 - val_loss: 0.2438 - val_accuracy: 0.9105\n",
      "Epoch 12/100\n",
      "3579/3579 - 0s - loss: 0.2426 - accuracy: 0.9078 - val_loss: 0.2410 - val_accuracy: 0.9105\n",
      "Epoch 13/100\n",
      "3579/3579 - 0s - loss: 0.2410 - accuracy: 0.9078 - val_loss: 0.2385 - val_accuracy: 0.9083\n",
      "Epoch 14/100\n",
      "3579/3579 - 0s - loss: 0.2371 - accuracy: 0.9089 - val_loss: 0.2433 - val_accuracy: 0.9172\n",
      "Epoch 15/100\n",
      "3579/3579 - 0s - loss: 0.2380 - accuracy: 0.9092 - val_loss: 0.2396 - val_accuracy: 0.9128\n",
      "Epoch 16/100\n",
      "3579/3579 - 0s - loss: 0.2344 - accuracy: 0.9114 - val_loss: 0.2368 - val_accuracy: 0.9128\n",
      "Epoch 17/100\n",
      "3579/3579 - 0s - loss: 0.2337 - accuracy: 0.9117 - val_loss: 0.2355 - val_accuracy: 0.9105\n",
      "Epoch 18/100\n",
      "3579/3579 - 0s - loss: 0.2301 - accuracy: 0.9120 - val_loss: 0.2347 - val_accuracy: 0.9083\n",
      "Epoch 19/100\n",
      "3579/3579 - 0s - loss: 0.2340 - accuracy: 0.9103 - val_loss: 0.2416 - val_accuracy: 0.9128\n",
      "Epoch 20/100\n",
      "3579/3579 - 0s - loss: 0.2312 - accuracy: 0.9123 - val_loss: 0.2341 - val_accuracy: 0.9128\n",
      "Epoch 21/100\n",
      "3579/3579 - 0s - loss: 0.2292 - accuracy: 0.9145 - val_loss: 0.2362 - val_accuracy: 0.9060\n",
      "Epoch 22/100\n",
      "3579/3579 - 0s - loss: 0.2281 - accuracy: 0.9151 - val_loss: 0.2330 - val_accuracy: 0.9105\n",
      "Epoch 23/100\n",
      "3579/3579 - 0s - loss: 0.2292 - accuracy: 0.9153 - val_loss: 0.2311 - val_accuracy: 0.9105\n",
      "Epoch 24/100\n",
      "3579/3579 - 0s - loss: 0.2254 - accuracy: 0.9151 - val_loss: 0.2387 - val_accuracy: 0.9105\n",
      "Epoch 25/100\n",
      "3579/3579 - 0s - loss: 0.2291 - accuracy: 0.9151 - val_loss: 0.2338 - val_accuracy: 0.9150\n",
      "Epoch 26/100\n",
      "3579/3579 - 0s - loss: 0.2246 - accuracy: 0.9151 - val_loss: 0.2323 - val_accuracy: 0.9150\n",
      "Epoch 27/100\n",
      "3579/3579 - 0s - loss: 0.2236 - accuracy: 0.9162 - val_loss: 0.2310 - val_accuracy: 0.9083\n",
      "Epoch 28/100\n",
      "3579/3579 - 0s - loss: 0.2229 - accuracy: 0.9165 - val_loss: 0.2276 - val_accuracy: 0.9128\n",
      "Epoch 29/100\n",
      "3579/3579 - 0s - loss: 0.2248 - accuracy: 0.9148 - val_loss: 0.2304 - val_accuracy: 0.9128\n",
      "Epoch 30/100\n",
      "3579/3579 - 0s - loss: 0.2213 - accuracy: 0.9190 - val_loss: 0.2283 - val_accuracy: 0.9128\n",
      "Epoch 31/100\n",
      "3579/3579 - 0s - loss: 0.2212 - accuracy: 0.9167 - val_loss: 0.2317 - val_accuracy: 0.9060\n",
      "Epoch 32/100\n",
      "3579/3579 - 0s - loss: 0.2232 - accuracy: 0.9190 - val_loss: 0.2298 - val_accuracy: 0.9150\n",
      "Epoch 33/100\n",
      "3579/3579 - 0s - loss: 0.2205 - accuracy: 0.9176 - val_loss: 0.2332 - val_accuracy: 0.9128\n",
      "Epoch 34/100\n",
      "3579/3579 - 0s - loss: 0.2212 - accuracy: 0.9176 - val_loss: 0.2324 - val_accuracy: 0.9172\n",
      "Epoch 35/100\n",
      "3579/3579 - 0s - loss: 0.2188 - accuracy: 0.9181 - val_loss: 0.2267 - val_accuracy: 0.9060\n",
      "Epoch 36/100\n",
      "3579/3579 - 0s - loss: 0.2211 - accuracy: 0.9179 - val_loss: 0.2263 - val_accuracy: 0.9083\n",
      "Epoch 37/100\n",
      "3579/3579 - 0s - loss: 0.2210 - accuracy: 0.9179 - val_loss: 0.2273 - val_accuracy: 0.9105\n",
      "Epoch 38/100\n",
      "3579/3579 - 0s - loss: 0.2194 - accuracy: 0.9170 - val_loss: 0.2266 - val_accuracy: 0.9172\n",
      "Epoch 39/100\n",
      "3579/3579 - 0s - loss: 0.2178 - accuracy: 0.9193 - val_loss: 0.2293 - val_accuracy: 0.9060\n",
      "Epoch 40/100\n",
      "3579/3579 - 0s - loss: 0.2161 - accuracy: 0.9184 - val_loss: 0.2235 - val_accuracy: 0.9128\n",
      "Epoch 41/100\n",
      "3579/3579 - 0s - loss: 0.2172 - accuracy: 0.9190 - val_loss: 0.2314 - val_accuracy: 0.9128\n",
      "Epoch 42/100\n",
      "3579/3579 - 0s - loss: 0.2168 - accuracy: 0.9193 - val_loss: 0.2252 - val_accuracy: 0.9128\n",
      "Epoch 43/100\n",
      "3579/3579 - 0s - loss: 0.2167 - accuracy: 0.9193 - val_loss: 0.2312 - val_accuracy: 0.9060\n",
      "Epoch 44/100\n",
      "3579/3579 - 0s - loss: 0.2147 - accuracy: 0.9201 - val_loss: 0.2222 - val_accuracy: 0.9128\n",
      "Epoch 45/100\n",
      "3579/3579 - 0s - loss: 0.2138 - accuracy: 0.9206 - val_loss: 0.2264 - val_accuracy: 0.9128\n",
      "Epoch 46/100\n",
      "3579/3579 - 0s - loss: 0.2132 - accuracy: 0.9209 - val_loss: 0.2348 - val_accuracy: 0.9128\n",
      "Epoch 47/100\n",
      "3579/3579 - 0s - loss: 0.2156 - accuracy: 0.9201 - val_loss: 0.2286 - val_accuracy: 0.9172\n",
      "Epoch 48/100\n",
      "3579/3579 - 0s - loss: 0.2147 - accuracy: 0.9195 - val_loss: 0.2283 - val_accuracy: 0.9128\n",
      "Epoch 49/100\n",
      "3579/3579 - 0s - loss: 0.2139 - accuracy: 0.9195 - val_loss: 0.2256 - val_accuracy: 0.9105\n",
      "Epoch 50/100\n",
      "3579/3579 - 0s - loss: 0.2141 - accuracy: 0.9184 - val_loss: 0.2223 - val_accuracy: 0.9172\n",
      "Epoch 51/100\n",
      "3579/3579 - 0s - loss: 0.2137 - accuracy: 0.9209 - val_loss: 0.2260 - val_accuracy: 0.9105\n",
      "Epoch 52/100\n",
      "3579/3579 - 0s - loss: 0.2144 - accuracy: 0.9198 - val_loss: 0.2281 - val_accuracy: 0.9195\n",
      "Epoch 53/100\n",
      "3579/3579 - 0s - loss: 0.2137 - accuracy: 0.9206 - val_loss: 0.2318 - val_accuracy: 0.9150\n",
      "Epoch 54/100\n",
      "3579/3579 - 0s - loss: 0.2194 - accuracy: 0.9193 - val_loss: 0.2224 - val_accuracy: 0.9128\n",
      "Epoch 55/100\n",
      "3579/3579 - 0s - loss: 0.2115 - accuracy: 0.9198 - val_loss: 0.2218 - val_accuracy: 0.9128\n",
      "Epoch 56/100\n",
      "3579/3579 - 0s - loss: 0.2113 - accuracy: 0.9206 - val_loss: 0.2225 - val_accuracy: 0.9150\n",
      "Epoch 57/100\n",
      "3579/3579 - 0s - loss: 0.2094 - accuracy: 0.9229 - val_loss: 0.2259 - val_accuracy: 0.9172\n",
      "Epoch 58/100\n",
      "3579/3579 - 0s - loss: 0.2123 - accuracy: 0.9206 - val_loss: 0.2211 - val_accuracy: 0.9172\n",
      "Epoch 59/100\n",
      "3579/3579 - 0s - loss: 0.2115 - accuracy: 0.9193 - val_loss: 0.2209 - val_accuracy: 0.9105\n",
      "Epoch 60/100\n",
      "3579/3579 - 0s - loss: 0.2105 - accuracy: 0.9212 - val_loss: 0.2392 - val_accuracy: 0.9060\n",
      "Epoch 61/100\n",
      "3579/3579 - 0s - loss: 0.2143 - accuracy: 0.9190 - val_loss: 0.2206 - val_accuracy: 0.9083\n",
      "Epoch 62/100\n",
      "3579/3579 - 0s - loss: 0.2091 - accuracy: 0.9215 - val_loss: 0.2264 - val_accuracy: 0.9128\n",
      "Epoch 63/100\n",
      "3579/3579 - 0s - loss: 0.2102 - accuracy: 0.9204 - val_loss: 0.2315 - val_accuracy: 0.9060\n",
      "Epoch 64/100\n",
      "3579/3579 - 0s - loss: 0.2109 - accuracy: 0.9212 - val_loss: 0.2211 - val_accuracy: 0.9105\n",
      "Epoch 65/100\n",
      "3579/3579 - 0s - loss: 0.2092 - accuracy: 0.9220 - val_loss: 0.2217 - val_accuracy: 0.9195\n",
      "Epoch 66/100\n",
      "3579/3579 - 0s - loss: 0.2080 - accuracy: 0.9215 - val_loss: 0.2202 - val_accuracy: 0.9172\n",
      "Epoch 67/100\n",
      "3579/3579 - 0s - loss: 0.2074 - accuracy: 0.9218 - val_loss: 0.2241 - val_accuracy: 0.9172\n",
      "Epoch 68/100\n",
      "3579/3579 - 0s - loss: 0.2080 - accuracy: 0.9218 - val_loss: 0.2219 - val_accuracy: 0.9217\n",
      "Epoch 69/100\n",
      "3579/3579 - 0s - loss: 0.2077 - accuracy: 0.9204 - val_loss: 0.2264 - val_accuracy: 0.9195\n",
      "Epoch 70/100\n",
      "3579/3579 - 0s - loss: 0.2069 - accuracy: 0.9204 - val_loss: 0.2211 - val_accuracy: 0.9217\n",
      "Epoch 71/100\n",
      "3579/3579 - 0s - loss: 0.2063 - accuracy: 0.9226 - val_loss: 0.2231 - val_accuracy: 0.9195\n",
      "Epoch 72/100\n",
      "3579/3579 - 0s - loss: 0.2074 - accuracy: 0.9204 - val_loss: 0.2311 - val_accuracy: 0.9128\n",
      "Epoch 73/100\n",
      "3579/3579 - 0s - loss: 0.2122 - accuracy: 0.9212 - val_loss: 0.2196 - val_accuracy: 0.9128\n",
      "Epoch 74/100\n",
      "3579/3579 - 0s - loss: 0.2070 - accuracy: 0.9218 - val_loss: 0.2215 - val_accuracy: 0.9172\n",
      "Epoch 75/100\n",
      "3579/3579 - 0s - loss: 0.2077 - accuracy: 0.9229 - val_loss: 0.2287 - val_accuracy: 0.9128\n",
      "Epoch 76/100\n",
      "3579/3579 - 0s - loss: 0.2091 - accuracy: 0.9198 - val_loss: 0.2220 - val_accuracy: 0.9239\n",
      "Epoch 77/100\n",
      "3579/3579 - 0s - loss: 0.2078 - accuracy: 0.9215 - val_loss: 0.2227 - val_accuracy: 0.9195\n",
      "Epoch 78/100\n",
      "3579/3579 - 0s - loss: 0.2077 - accuracy: 0.9220 - val_loss: 0.2228 - val_accuracy: 0.9195\n",
      "Epoch 79/100\n",
      "3579/3579 - 0s - loss: 0.2056 - accuracy: 0.9223 - val_loss: 0.2186 - val_accuracy: 0.9172\n"
     ]
    },
    {
     "name": "stdout",
     "output_type": "stream",
     "text": [
      "Epoch 80/100\n",
      "3579/3579 - 0s - loss: 0.2091 - accuracy: 0.9206 - val_loss: 0.2242 - val_accuracy: 0.9172\n",
      "Epoch 81/100\n",
      "3579/3579 - 0s - loss: 0.2068 - accuracy: 0.9226 - val_loss: 0.2201 - val_accuracy: 0.9172\n",
      "Epoch 82/100\n",
      "3579/3579 - 0s - loss: 0.2106 - accuracy: 0.9212 - val_loss: 0.2288 - val_accuracy: 0.9150\n",
      "Epoch 83/100\n",
      "3579/3579 - 0s - loss: 0.2073 - accuracy: 0.9184 - val_loss: 0.2261 - val_accuracy: 0.9217\n",
      "Epoch 84/100\n",
      "3579/3579 - 0s - loss: 0.2101 - accuracy: 0.9206 - val_loss: 0.2196 - val_accuracy: 0.9239\n",
      "Epoch 85/100\n",
      "3579/3579 - 0s - loss: 0.2049 - accuracy: 0.9229 - val_loss: 0.2306 - val_accuracy: 0.9128\n",
      "Epoch 86/100\n",
      "3579/3579 - 0s - loss: 0.2046 - accuracy: 0.9240 - val_loss: 0.2214 - val_accuracy: 0.9172\n",
      "Epoch 87/100\n",
      "3579/3579 - 0s - loss: 0.2080 - accuracy: 0.9223 - val_loss: 0.2212 - val_accuracy: 0.9195\n",
      "Epoch 88/100\n",
      "3579/3579 - 0s - loss: 0.2049 - accuracy: 0.9218 - val_loss: 0.2199 - val_accuracy: 0.9217\n",
      "Epoch 89/100\n",
      "3579/3579 - 0s - loss: 0.2036 - accuracy: 0.9237 - val_loss: 0.2273 - val_accuracy: 0.9217\n",
      "Epoch 90/100\n",
      "3579/3579 - 0s - loss: 0.2051 - accuracy: 0.9223 - val_loss: 0.2199 - val_accuracy: 0.9195\n",
      "Epoch 91/100\n",
      "3579/3579 - 0s - loss: 0.2024 - accuracy: 0.9243 - val_loss: 0.2251 - val_accuracy: 0.9217\n",
      "Epoch 92/100\n",
      "3579/3579 - 0s - loss: 0.2042 - accuracy: 0.9234 - val_loss: 0.2196 - val_accuracy: 0.9195\n",
      "Epoch 93/100\n",
      "3579/3579 - 0s - loss: 0.2073 - accuracy: 0.9181 - val_loss: 0.2257 - val_accuracy: 0.9128\n",
      "Epoch 94/100\n",
      "3579/3579 - 0s - loss: 0.2058 - accuracy: 0.9209 - val_loss: 0.2252 - val_accuracy: 0.9128\n",
      "Epoch 95/100\n",
      "3579/3579 - 0s - loss: 0.2050 - accuracy: 0.9234 - val_loss: 0.2210 - val_accuracy: 0.9172\n",
      "Epoch 96/100\n",
      "3579/3579 - 0s - loss: 0.2046 - accuracy: 0.9209 - val_loss: 0.2254 - val_accuracy: 0.9195\n",
      "Epoch 97/100\n",
      "3579/3579 - 0s - loss: 0.2064 - accuracy: 0.9209 - val_loss: 0.2283 - val_accuracy: 0.9128\n",
      "Epoch 98/100\n",
      "3579/3579 - 0s - loss: 0.2045 - accuracy: 0.9212 - val_loss: 0.2186 - val_accuracy: 0.9150\n",
      "Epoch 99/100\n",
      "3579/3579 - 0s - loss: 0.2035 - accuracy: 0.9226 - val_loss: 0.2237 - val_accuracy: 0.9128\n",
      "Epoch 100/100\n",
      "3579/3579 - 0s - loss: 0.2125 - accuracy: 0.9209 - val_loss: 0.2249 - val_accuracy: 0.9195\n"
     ]
    },
    {
     "data": {
      "text/plain": [
       "<tensorflow.python.keras.callbacks.History at 0x25a3b49ac08>"
      ]
     },
     "execution_count": 12,
     "metadata": {},
     "output_type": "execute_result"
    }
   ],
   "source": [
    "#Will automatically batch the data :\n",
    "model.fit(train_inputs,\n",
    "          train_targets,\n",
    "          batch_size = batch_size,\n",
    "          epochs = max_epoch,\n",
    "          validation_data=(validation_inputs, validation_targets),\n",
    "         verbose = 2)"
   ]
  },
  {
   "cell_type": "markdown",
   "metadata": {},
   "source": [
    "Validation loss keeps fluctuating = Overfitted\n",
    "Happens because of lower preprocessing. Hence, try early stopping."
   ]
  },
  {
   "cell_type": "markdown",
   "metadata": {},
   "source": [
    "#### Early stopping :"
   ]
  },
  {
   "cell_type": "code",
   "execution_count": 15,
   "metadata": {},
   "outputs": [
    {
     "name": "stdout",
     "output_type": "stream",
     "text": [
      "Train on 3579 samples, validate on 447 samples\n",
      "Epoch 1/100\n",
      "3579/3579 - 0s - loss: 0.2055 - accuracy: 0.9234 - val_loss: 0.2210 - val_accuracy: 0.9195\n",
      "Epoch 2/100\n",
      "3579/3579 - 0s - loss: 0.2025 - accuracy: 0.9229 - val_loss: 0.2204 - val_accuracy: 0.9150\n",
      "Epoch 3/100\n",
      "3579/3579 - 0s - loss: 0.2053 - accuracy: 0.9226 - val_loss: 0.2213 - val_accuracy: 0.9217\n",
      "Epoch 4/100\n",
      "3579/3579 - 0s - loss: 0.2019 - accuracy: 0.9254 - val_loss: 0.2233 - val_accuracy: 0.9128\n"
     ]
    },
    {
     "data": {
      "text/plain": [
       "<tensorflow.python.keras.callbacks.History at 0x25a3cb56c48>"
      ]
     },
     "execution_count": 15,
     "metadata": {},
     "output_type": "execute_result"
    }
   ],
   "source": [
    "early_stopping = tf.keras.callbacks.EarlyStopping(patience = 2)\n",
    "\n",
    "model.fit(train_inputs,\n",
    "          train_targets,\n",
    "          batch_size = batch_size,\n",
    "          epochs = max_epoch,\n",
    "          callbacks=[early_stopping],\n",
    "          validation_data=(validation_inputs, validation_targets),\n",
    "         verbose = 2)"
   ]
  },
  {
   "cell_type": "markdown",
   "metadata": {},
   "source": [
    "## Testing "
   ]
  },
  {
   "cell_type": "code",
   "execution_count": 16,
   "metadata": {},
   "outputs": [
    {
     "name": "stdout",
     "output_type": "stream",
     "text": [
      "448/448 [==============================] - 0s 270us/sample - loss: 0.2855 - accuracy: 0.8906\n"
     ]
    }
   ],
   "source": [
    "test_loss , test_accuracy = model.evaluate(test_inputs,test_targets)"
   ]
  },
  {
   "cell_type": "code",
   "execution_count": 18,
   "metadata": {},
   "outputs": [
    {
     "name": "stdout",
     "output_type": "stream",
     "text": [
      "Test loss : 0.29 , Test accuracy : 89.06%\n"
     ]
    }
   ],
   "source": [
    "print(\"Test loss : {0:.2f} , Test accuracy : {1:.2f}%\".format(test_loss, test_accuracy*100.))"
   ]
  },
  {
   "cell_type": "code",
   "execution_count": null,
   "metadata": {},
   "outputs": [],
   "source": []
  }
 ],
 "metadata": {
  "kernelspec": {
   "display_name": "Python [conda env:py3-TF2.0]",
   "language": "python",
   "name": "conda-env-py3-TF2.0-py"
  },
  "language_info": {
   "codemirror_mode": {
    "name": "ipython",
    "version": 3
   },
   "file_extension": ".py",
   "mimetype": "text/x-python",
   "name": "python",
   "nbconvert_exporter": "python",
   "pygments_lexer": "ipython3",
   "version": "3.7.7"
  }
 },
 "nbformat": 4,
 "nbformat_minor": 2
}
